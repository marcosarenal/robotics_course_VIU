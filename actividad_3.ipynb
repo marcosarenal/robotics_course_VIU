{
 "cells": [
  {
   "cell_type": "code",
   "execution_count": 1,
   "metadata": {},
   "outputs": [],
   "source": [
    "import sim          # librería para conectar con CoppeliaSim\n",
    "import sympy as sp  # librería para cálculo simbólico\n",
    "import time\n",
    "import numpy as np"
   ]
  },
  {
   "cell_type": "code",
   "execution_count": 2,
   "metadata": {},
   "outputs": [],
   "source": [
    "def connect(port):\n",
    "# Establece la conexión con CoppeliaSim \n",
    "# port debe coincidir con el puerto de conexión en CoppeliaSim, 19999 en nuestro caso\n",
    "# retorna el número de cliente o -1 si no puede establecer conexión\n",
    "    sim.simxFinish(-1) # just in case, close all opened connections\n",
    "    clientID=sim.simxStart('127.0.0.1',port,True,True,2000,5) # Conectarse\n",
    "    if clientID == 0: print(\"Conectado al puerto: \", port)\n",
    "    else: print(\"WARNING: no se pudo conectar\")\n",
    "    return clientID\n"
   ]
  },
  {
   "cell_type": "code",
   "execution_count": 3,
   "metadata": {},
   "outputs": [],
   "source": [
    "# Definimos una función para construir la matriz de rotación\n",
    "# a partir de los ángulos de Euler\n",
    "\n",
    "def matrixFromEuler(alpha, beta, gamma):\n",
    "    # angulos en radianes\n",
    "    Ra = sp.Matrix([[1, 0, 0, 0],\n",
    "                   [0, sp.cos(alpha), -sp.sin(alpha), 0],\n",
    "                   [0, sp.sin(alpha), sp.cos(alpha), 0],\n",
    "                   [0, 0, 0, 1]])\n",
    "    Rb = sp.Matrix([[sp.cos(beta), 0, sp.sin(beta), 0],\n",
    "                   [0, 1, 0, 0],\n",
    "                   [-sp.sin(beta), 0, sp.cos(beta), 0],\n",
    "                   [0, 0, 0, 1]])\n",
    "    Rc = sp.Matrix([[sp.cos(gamma), -sp.sin(gamma), 0, 0],\n",
    "                   [sp.sin(gamma), sp.cos(gamma), 0, 0],\n",
    "                   [0, 0, 1, 0],\n",
    "                   [0, 0, 0, 1]])\n",
    "    T = Ra*Rb*Rc\n",
    "    return T"
   ]
  },
  {
   "cell_type": "code",
   "execution_count": 4,
   "metadata": {},
   "outputs": [],
   "source": [
    "def setEffector(val):\n",
    "# acciona el efector final\n",
    "# val es Int con valor 0 ó 1 para desactivar o activar el actuador final.\n",
    "    res,retInts,retFloats,retStrings,retBuffer=sim.simxCallScriptFunction(clientID,\n",
    "        \"suctionPad\", sim.sim_scripttype_childscript,\"setEffector\",[val],[],[],\"\", sim.simx_opmode_blocking)\n",
    "    return res"
   ]
  },
  {
   "cell_type": "code",
   "execution_count": 7,
   "metadata": {},
   "outputs": [
    {
     "name": "stdout",
     "output_type": "stream",
     "text": [
      "Conectado al puerto:  19999\n",
      "Conectado al puerto:  19999\n",
      "leyendo la posición objetivo...\n",
      "[0.53035569190979, -0.04687117040157318, 0.02499992400407791]\n",
      "-9.949053040543494e-07\n",
      "-8.522775558887659e-07\n",
      "40.89858533773284\n",
      "calculando la cinemática inversa...\n",
      "no se encontró la solución\n",
      "[0, 0, 0, 0]\n",
      "moviendo a la posición objetivo...\n",
      "movimiento concluido!\n"
     ]
    }
   ],
   "source": [
    "# Para el primer cubo\n",
    "clientID = connect(19999)\n",
    "clientID = connect(19999)\n",
    "\n",
    "retCode,effector=sim.simxGetObjectHandle(clientID,'effector',sim.simx_opmode_blocking)\n",
    "retCode,joint1=sim.simxGetObjectHandle(clientID,'MTB_joint1',sim.simx_opmode_blocking)\n",
    "retCode,joint2=sim.simxGetObjectHandle(clientID,'MTB_joint2',sim.simx_opmode_blocking)\n",
    "retCode,joint3=sim.simxGetObjectHandle(clientID,'MTB_joint3',sim.simx_opmode_blocking)\n",
    "retCode,joint4=sim.simxGetObjectHandle(clientID,'MTB_joint4',sim.simx_opmode_blocking)\n",
    "retCode,caja1=sim.simxGetObjectHandle(clientID,'Caja1',sim.simx_opmode_blocking)\n",
    "\n",
    "\n",
    "# obtenemos la posición\n",
    "print(\"leyendo la posición objetivo...\")\n",
    "retCode,pos=sim.simxGetObjectPosition(clientID, caja1, -1, sim.simx_opmode_blocking)\n",
    "print(pos)\n",
    "# y orientación\n",
    "retCode,eul=sim.simxGetObjectOrientation(clientID, caja1, -1, sim.simx_opmode_blocking)\n",
    "print(eul[0]*180/3.1416)\n",
    "print(eul[1]*180/3.1416)\n",
    "print(eul[2]*180/3.1416)\n",
    "\n",
    "# definimos las coordenadas de destino\n",
    "x = pos[0]\n",
    "y = pos[1]\n",
    "z = pos[2] + 0.026 # distancia del centro al borde + tolerancia\n",
    "alpha = eul[0]\n",
    "beta = eul[1]\n",
    "gamma = eul[2]\n",
    "t = sp.Matrix([[1, 0, 0, x],\n",
    "               [0, 1, 0, y], \n",
    "               [0, 0, 1, z], \n",
    "               [0, 0, 0, 1]])\n",
    "\n",
    "D = t*matrixFromEuler(alpha, beta, gamma)\n",
    "\n",
    "# calculamos la cinemática inversa\n",
    "print(\"calculando la cinemática inversa...\")\n",
    "try:\n",
    "    q = sp.nsolve((T-D), (q1, q2, q3, q4), (1, 1, 1, 1), prec=6)\n",
    "except:\n",
    "    print('no se encontró la solución')\n",
    "    q = [0, 0, 0, 0]\n",
    "print (q)\n",
    "\n",
    "# movemos el robot a la posición\n",
    "print(\"moviendo a la posición objetivo...\")\n",
    "retCode = sim.simxSetJointTargetPosition(clientID, joint1, q[0], sim.simx_opmode_blocking)\n",
    "retCode = sim.simxSetJointTargetPosition(clientID, joint2, q[1], sim.simx_opmode_blocking)\n",
    "retCode = sim.simxSetJointTargetPosition(clientID, joint3, 0, sim.simx_opmode_blocking)\n",
    "retCode = sim.simxSetJointTargetPosition(clientID, joint4, q[3], sim.simx_opmode_blocking)\n",
    "time.sleep(1)\n",
    "# bajamos el actuador\n",
    "retCode = sim.simxSetJointTargetPosition(clientID, joint3, q[2], sim.simx_opmode_blocking)\n",
    "time.sleep(1)\n",
    "# activamos el efector\n",
    "setEffector(1)\n",
    "time.sleep(1)\n",
    "# levantamos el actuador\n",
    "retCode = sim.simxSetJointTargetPosition(clientID, joint3, 0, sim.simx_opmode_blocking)\n",
    "time.sleep(1)\n",
    "# volvemos a la posición inicial\n",
    "retCode = sim.simxSetJointTargetPosition(clientID, joint1, 0, sim.simx_opmode_blocking)\n",
    "retCode = sim.simxSetJointTargetPosition(clientID, joint2, 0, sim.simx_opmode_blocking)\n",
    "retCode = sim.simxSetJointTargetPosition(clientID, joint3, 0, sim.simx_opmode_blocking)\n",
    "time.sleep(1)\n",
    "# bajamos el cubo\n",
    "retCode = sim.simxSetJointTargetPosition(clientID, joint3, q[2], sim.simx_opmode_blocking)\n",
    "time.sleep(1)\n",
    "# desactivamos el actuador\n",
    "time.sleep(1)\n",
    "setEffector(0)\n",
    "# y levantamos\n",
    "retCode = sim.simxSetJointTargetPosition(clientID, joint3, 0, sim.simx_opmode_blocking)\n",
    "print(\"movimiento concluido!\")"
   ]
  },
  {
   "cell_type": "raw",
   "metadata": {},
   "source": []
  },
  {
   "cell_type": "code",
   "execution_count": null,
   "metadata": {},
   "outputs": [],
   "source": []
  },
  {
   "cell_type": "code",
   "execution_count": null,
   "metadata": {},
   "outputs": [],
   "source": []
  }
 ],
 "metadata": {
  "kernelspec": {
   "display_name": "Python 3",
   "language": "python",
   "name": "python3"
  },
  "language_info": {
   "codemirror_mode": {
    "name": "ipython",
    "version": 3
   },
   "file_extension": ".py",
   "mimetype": "text/x-python",
   "name": "python",
   "nbconvert_exporter": "python",
   "pygments_lexer": "ipython3",
   "version": "3.7.3"
  }
 },
 "nbformat": 4,
 "nbformat_minor": 2
}
