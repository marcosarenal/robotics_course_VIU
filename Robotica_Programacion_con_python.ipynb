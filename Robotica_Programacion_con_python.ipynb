{
 "cells": [
  {
   "cell_type": "markdown",
   "metadata": {},
   "source": [
    "# Robótica: Programación con python \n",
    "    \n",
    "### Pablo Marcos Arenal \n",
    "\n",
    "Este es un breve tutorial de conexión de python a CoppeliaSim para las clases de Robótica del Grado en Informática de la VIU.\n",
    "Además se presentarán unos simples ejercicios para el manejo de un robot SCARA. \n",
    "Este programa servirá de guía para la realización de la *Actividad 3* del curso.\n",
    "\n",
    "Este tutorial esta basado en el taller [Robopy](https://github.com/cmoralesd/robopy) de Claudio Morales.\n",
    "\n"
   ]
  },
  {
   "cell_type": "markdown",
   "metadata": {},
   "source": [
    "## Paso 1: Setup\n",
    "\n",
    "* Buscar el archivo 'remoteapi.dll' de CoppeliaSim en su árbol de directorios. Deberían estar en el *path*:\n",
    "\n",
    "> ### Windows:\n",
    ">```console\n",
    ">C:\\Program Files\\CoppeliaRobotics\\CoppeliaSimEdu\\programming\\remoteApiBindings\\lib\\lib\\Windows\n",
    ">```\n",
    ">### Mac:\n",
    ">```console\n",
    ">[..]\\CoppeliaSim_Edu_V4_0_0_Mac/programming/remoteApiBindings/lib/lib/MacOS/remoteapi.dll\n",
    ">```\n",
    "\n",
    "* Colocar el archivo *python* (o *Jupyter*; este mismo cuaderno Jupyter *Robotica_Programacion_con_python.ipynb* por ejemplo) en la misma carpeta que el archivo *MTB_Robot.ttt* y los archivos 'sim.py', 'simConst.py' y 'remoteapi.dll'.\n",
    "\n"
   ]
  },
  {
   "cell_type": "markdown",
   "metadata": {},
   "source": [
    "## Paso 2:  CoppeliaSim\n",
    "* Abrir la escena *MTB_Robot.ttt* en CoppeliaSim\n",
    "\n",
    "\n",
    "* Aceptar las conexiones entrantes\n",
    "![Conexiones entrantes](Figures/conexiones_entrantes.png)\n",
    "\n",
    "\n",
    "* Editar un script (el de la base del robot, preferiblemente) con *simRemoteApi.start(19999)*\n",
    "\n",
    "```console\n",
    "\n",
    "function sysCall_init() \n",
    "   simRemoteApi.start(19999)\n",
    "end\n",
    "\n",
    "function sysCall_cleanup() \n",
    "end \n",
    "\n",
    "function sysCall_actuation() \n",
    "end \n",
    "```\n",
    "\n",
    "* Iniciar la simulación."
   ]
  },
  {
   "cell_type": "markdown",
   "metadata": {},
   "source": [
    "## Paso 3: Jupyter Notebook\n",
    "* Abrir el archivo *Robotica_Programacion_con_python.ipynb* en *Jupyter*.\n",
    "\n",
    "* Trust: Confiar en el notebook\n",
    "\n",
    "### Importamos las librerías necesarias\n"
   ]
  },
  {
   "cell_type": "code",
   "execution_count": 30,
   "metadata": {},
   "outputs": [],
   "source": [
    "import sim          # librería para conectar con CoppeliaSim\n",
    "import sympy as sp  # librería para cálculo simbólico\n",
    "import time\n",
    "import numpy as np"
   ]
  },
  {
   "cell_type": "markdown",
   "metadata": {},
   "source": [
    "### Conexión con CoppeliaSim\n",
    "La función *connect(port)* establece la conexión con CoppeliaSim. Utilizaremos las funciones del API Remoto de CoppeliaSim.\n",
    "\n",
    "Más información en:\n",
    "http://www.coppeliarobotics.com/helpFiles/en/remoteApiFunctionsPython.htm\n",
    "\n",
    "*port* debe coincidir con el puerto de conexión en CoppeliaSim, 19999 en nuestro caso.\n",
    "Devuelve el número de cliente o -1 si no puede establecer conexión.\n",
    "\n"
   ]
  },
  {
   "cell_type": "code",
   "execution_count": 31,
   "metadata": {},
   "outputs": [],
   "source": [
    "def connect(port):\n",
    "# Establece la conexión con CoppeliaSim \n",
    "# port debe coincidir con el puerto de conexión en CoppeliaSim, 19999 en nuestro caso\n",
    "# retorna el número de cliente o -1 si no puede establecer conexión\n",
    "    sim.simxFinish(-1) # just in case, close all opened connections\n",
    "    clientID=sim.simxStart('127.0.0.1',port,True,True,2000,5) # Conectarse\n",
    "    if clientID == 0: print(\"Conectado al puerto: \", port)\n",
    "    else: print(\"WARNING: no se pudo conectar\")\n",
    "    return clientID\n"
   ]
  },
  {
   "cell_type": "markdown",
   "metadata": {},
   "source": [
    "Llamar a la función para conectarse al servidor de CoppeliaSim.\n",
    "Es necesario hacerlo cada vez que se reinicia la simulación.\n"
   ]
  },
  {
   "cell_type": "code",
   "execution_count": 32,
   "metadata": {},
   "outputs": [
    {
     "name": "stdout",
     "output_type": "stream",
     "text": [
      "Conectado al puerto:  19999\n"
     ]
    }
   ],
   "source": [
    "clientID = connect(19999)"
   ]
  },
  {
   "cell_type": "markdown",
   "metadata": {},
   "source": [
    "## Control del robot\n",
    "Mediante el uso de manejadores (o \"handlers\") se controlarán cada uno de los elementos del robot. Principalmente las articulaciones. \n",
    "\n",
    "> 📘\n",
    "**NOTA:** Añadir un \"Dummy\" al efector final.\n",
    "\n",
    "### Manejadores (\"handlers)\n",
    "A cada elemento de la escena que se quiere manejar se le asocia un \"handler\" mediante un identificador. Con él se hace referencia a ese elemento en el código. En este caso el \"handler\" del \"Dummy\" que hemos colocado en el efector final. "
   ]
  },
  {
   "cell_type": "code",
   "execution_count": 33,
   "metadata": {},
   "outputs": [
    {
     "name": "stdout",
     "output_type": "stream",
     "text": [
      "0\n"
     ]
    }
   ],
   "source": [
    "# Obtenemos el handler del Dummy\n",
    "retCode,end_effector=sim.simxGetObjectHandle(clientID,'Dummy',sim.simx_opmode_blocking)\n",
    "\n",
    "print(end_effector)"
   ]
  },
  {
   "cell_type": "markdown",
   "metadata": {},
   "source": [
    "Mediante los \"handlers\" y las funciones específicas de la librería sim se controlan los elementos del robot.\n",
    "### Posición y orientación:"
   ]
  },
  {
   "cell_type": "code",
   "execution_count": 34,
   "metadata": {},
   "outputs": [
    {
     "name": "stdout",
     "output_type": "stream",
     "text": [
      "[1.4203234910964966, -0.7421712875366211, 0.48568829894065857]\n"
     ]
    }
   ],
   "source": [
    "# posición actual del efector final\n",
    "retCode,pos=sim.simxGetObjectPosition(clientID, end_effector, -1, sim.simx_opmode_blocking)\n",
    "\n",
    "print(pos)"
   ]
  },
  {
   "cell_type": "code",
   "execution_count": 35,
   "metadata": {},
   "outputs": [
    {
     "name": "stdout",
     "output_type": "stream",
     "text": [
      "[-1.826035737991333, -0.7889206409454346, 2.9585115909576416]\n"
     ]
    }
   ],
   "source": [
    "# orientación actual del efector final\n",
    "retCode,orient=sim.simxGetObjectOrientation(clientID, end_effector, -1, sim.simx_opmode_blocking)\n",
    "print(orient)"
   ]
  },
  {
   "cell_type": "markdown",
   "metadata": {},
   "source": [
    "### Movimiento de las articulaciones"
   ]
  },
  {
   "cell_type": "code",
   "execution_count": 36,
   "metadata": {},
   "outputs": [],
   "source": [
    "# Obtenemos el handler de las articulaciones\n",
    "retCode,joint1=sim.simxGetObjectHandle(clientID,'MTB_joint1',sim.simx_opmode_blocking)\n",
    "retCode,joint2=sim.simxGetObjectHandle(clientID,'MTB_joint2',sim.simx_opmode_blocking)\n",
    "retCode,joint3=sim.simxGetObjectHandle(clientID,'MTB_joint3',sim.simx_opmode_blocking)\n",
    "\n",
    "\n",
    "# fijamos las posiciones a las que queremos llevar cada articulación \n",
    "q1 = 0 * np.pi/180\n",
    "\n",
    "# y usamos las funciones correspondientes para mover el robot\n",
    "retCode = sim.simxSetJointTargetPosition(clientID, joint1, q1, sim.simx_opmode_oneshot)\n"
   ]
  },
  {
   "cell_type": "code",
   "execution_count": 37,
   "metadata": {},
   "outputs": [],
   "source": [
    "# fijamos la posicion a las que queremos llevar joint2\n",
    "q2 = 0 * np.pi/180\n",
    "\n",
    "# y movemos la articulación\n",
    "retCode = sim.simxSetJointTargetPosition(clientID, joint2, q2, sim.simx_opmode_oneshot)\n"
   ]
  },
  {
   "cell_type": "code",
   "execution_count": 38,
   "metadata": {},
   "outputs": [],
   "source": [
    "# fijamos la posicion a las que queremos llevar joint3\n",
    "q3 = 0.0 #0.1\n",
    "\n",
    "# y movemos el brazo\n",
    "retCode = sim.simxSetJointTargetPosition(clientID, joint3, q3, sim.simx_opmode_oneshot)"
   ]
  },
  {
   "cell_type": "markdown",
   "metadata": {},
   "source": [
    "### Setup del robot en la posición inicial\n"
   ]
  },
  {
   "cell_type": "code",
   "execution_count": 39,
   "metadata": {},
   "outputs": [],
   "source": [
    "# Enviamos el robot a la posición inicial\n",
    "q = [0, 0, 0]\n",
    "\n",
    "retCode = sim.simxSetJointTargetPosition(clientID, joint1, q[0], sim.simx_opmode_oneshot)\n",
    "retCode = sim.simxSetJointTargetPosition(clientID, joint2, q[1], sim.simx_opmode_oneshot)\n",
    "retCode = sim.simxSetJointTargetPosition(clientID, joint3, q[2], sim.simx_opmode_oneshot)\n"
   ]
  },
  {
   "cell_type": "markdown",
   "metadata": {},
   "source": [
    "### Posición y orientación de un objeto externo"
   ]
  },
  {
   "cell_type": "code",
   "execution_count": 40,
   "metadata": {},
   "outputs": [
    {
     "name": "stdout",
     "output_type": "stream",
     "text": [
      "Handler:  35\n",
      "Posición:  [0.540294885635376, -0.04687117040157318, 0.02499992400407791]\n"
     ]
    }
   ],
   "source": [
    "# Obtenemos el handler de la Caja1\n",
    "retCode,caja1=sim.simxGetObjectHandle(clientID,'Caja1',sim.simx_opmode_blocking)\n",
    "\n",
    "print(\"Handler: \",caja1)\n",
    "\n",
    "retCode,pos=sim.simxGetObjectPosition(clientID, caja1, -1, sim.simx_opmode_blocking)\n",
    "\n",
    "print('Posición: ',pos)"
   ]
  },
  {
   "cell_type": "markdown",
   "metadata": {},
   "source": [
    "## Cinemática Directa\n",
    "A partir de los ángulos que se quieran dar a las articulaciones, determinamos la posición del efector final. Tal como vimos en clase (Tema 3), calculamos la posición del actuador final a partir de las ecuaciones del modelo geométrico:\n",
    "\n",
    "![Modelo geometrico Robot SCARA](Figures/SCARA_geometric_model.png)\n",
    "\n",
    "A partir de este modelo determinamos la matriz de transformación.\n",
    "\n",
    "Las longitudes de los brazos en este ejemplo son:\n",
    "\n",
    "```console\n",
    "l1 = 0.234\n",
    "l2 = 0.467\n",
    "l3 = 0.4005\n",
    "```"
   ]
  },
  {
   "cell_type": "code",
   "execution_count": 41,
   "metadata": {
    "scrolled": true
   },
   "outputs": [
    {
     "data": {
      "text/plain": [
       "Matrix([\n",
       "[cos(q1 + q2 + q4), -sin(q1 + q2 + q4), 0, 0.467*cos(q1) + 0.4005*cos(q1 + q2)],\n",
       "[sin(q1 + q2 + q4),  cos(q1 + q2 + q4), 0, 0.467*sin(q1) + 0.4005*sin(q1 + q2)],\n",
       "[                0,                  0, 1,                         -q3 + 0.234],\n",
       "[                0,                  0, 0,                                   1]])"
      ]
     },
     "execution_count": 41,
     "metadata": {},
     "output_type": "execute_result"
    }
   ],
   "source": [
    "# Matriz de transformación directa\n",
    "\n",
    "l1 = 0.234\n",
    "l2 = 0.467\n",
    "l3 = 0.4005\n",
    "\n",
    "q1 = sp.symbols('q1') # ángulo de la articulación rotacional joint1, en radianes\n",
    "q2 = sp.symbols('q2') # ángulo de la articulación rotacional joint2, en radianes\n",
    "q3 = sp.symbols('q3') # posición de la articulación prismática joint3, en metros\n",
    "q4 = sp.symbols('q4') # ángulo de la articulación rotacional joint4, en radianes\n",
    "\n",
    "T = sp.Matrix([[sp.cos(q1 + q2 + q4), -sp.sin(q1 + q2 + q4), 0, l2*sp.cos(q1) + l3*sp.cos(q1 + q2)],\n",
    "            [sp.sin(q1 + q2 + q4), sp.cos(q1 + q2 + q4), 0, l2*sp.sin(q1) + l3*sp.sin(q1 + q2)], \n",
    "            [0, 0, 1, l1 - q3], \n",
    "            [0, 0, 0, 1]])\n",
    "T"
   ]
  },
  {
   "cell_type": "markdown",
   "metadata": {},
   "source": [
    "### Cálculo de la matriz de rotación\n",
    "\n",
    "La matriz de rotación se puede calcular a partir de los ángulos de Euler (que son los que nos da CoppeliaSim) con las ecuaciones que vimos en el Tema 3:\n",
    "\n",
    "![Posiciones a partir de los angulos Euler](Figures/angulos_Euler.png)"
   ]
  },
  {
   "cell_type": "code",
   "execution_count": 42,
   "metadata": {},
   "outputs": [],
   "source": [
    "# Definimos una función para construir la matriz de rotación\n",
    "# a partir de los ángulos de Euler\n",
    "\n",
    "def matrixFromEuler(alpha, beta, gamma):\n",
    "    # angulos en radianes\n",
    "    Ra = sp.Matrix([[1, 0, 0, 0],\n",
    "                   [0, sp.cos(alpha), -sp.sin(alpha), 0],\n",
    "                   [0, sp.sin(alpha), sp.cos(alpha), 0],\n",
    "                   [0, 0, 0, 1]])\n",
    "    Rb = sp.Matrix([[sp.cos(beta), 0, sp.sin(beta), 0],\n",
    "                   [0, 1, 0, 0],\n",
    "                   [-sp.sin(beta), 0, sp.cos(beta), 0],\n",
    "                   [0, 0, 0, 1]])\n",
    "    Rc = sp.Matrix([[sp.cos(gamma), -sp.sin(gamma), 0, 0],\n",
    "                   [sp.sin(gamma), sp.cos(gamma), 0, 0],\n",
    "                   [0, 0, 1, 0],\n",
    "                   [0, 0, 0, 1]])\n",
    "    T = Ra*Rb*Rc\n",
    "    return T"
   ]
  },
  {
   "cell_type": "code",
   "execution_count": 43,
   "metadata": {},
   "outputs": [
    {
     "data": {
      "text/plain": [
       "Matrix([\n",
       "[sqrt(2)/2, -sqrt(2)/2,          0, 0],\n",
       "[      1/2,        1/2, -sqrt(2)/2, 0],\n",
       "[      1/2,        1/2,  sqrt(2)/2, 0],\n",
       "[        0,          0,          0, 1]])"
      ]
     },
     "execution_count": 43,
     "metadata": {},
     "output_type": "execute_result"
    }
   ],
   "source": [
    "\n",
    "matrixFromEuler(45*sp.pi/180, 0, 45*sp.pi/180)"
   ]
  },
  {
   "cell_type": "markdown",
   "metadata": {},
   "source": [
    "###  Posición y orientación del punto de destino\n"
   ]
  },
  {
   "cell_type": "code",
   "execution_count": 15,
   "metadata": {},
   "outputs": [
    {
     "data": {
      "text/plain": [
       "Matrix([\n",
       "[sqrt(2)/2, -sqrt(2)/2, 0, 0.5],\n",
       "[sqrt(2)/2,  sqrt(2)/2, 0, 0.5],\n",
       "[        0,          0, 1, 0.1],\n",
       "[        0,          0, 0,   1]])"
      ]
     },
     "execution_count": 15,
     "metadata": {},
     "output_type": "execute_result"
    }
   ],
   "source": [
    "# A partir de las coordenadas de posición y los ángulos de Euler\n",
    "# es posible obtener la matriz de transformación\n",
    "\n",
    "x = 0.5\n",
    "y = 0.5\n",
    "z = 0.1\n",
    "alpha = 0\n",
    "beta = 0\n",
    "gamma = 45*sp.pi/180\n",
    "\n",
    "t = sp.Matrix([[1, 0, 0, x],\n",
    "               [0, 1, 0, y], \n",
    "               [0, 0, 1, z], \n",
    "               [0, 0, 0, 1]])\n",
    "\n",
    "D = t*matrixFromEuler(alpha, beta, gamma)\n",
    "D"
   ]
  },
  {
   "cell_type": "markdown",
   "metadata": {},
   "source": [
    "## Cálculo de la cinemática inversa\n",
    "A partir de esta matriz de transformación directa (T) y la posición final (D) calculamos la cinemática inversa.\n"
   ]
  },
  {
   "cell_type": "code",
   "execution_count": 16,
   "metadata": {},
   "outputs": [
    {
     "data": {
      "text/plain": [
       "Matrix([\n",
       "[cos(q1 + q2 + q4) - sqrt(2)/2, -sin(q1 + q2 + q4) + sqrt(2)/2, 0, 0.467*cos(q1) + 0.4005*cos(q1 + q2) - 0.5],\n",
       "[sin(q1 + q2 + q4) - sqrt(2)/2,  cos(q1 + q2 + q4) - sqrt(2)/2, 0, 0.467*sin(q1) + 0.4005*sin(q1 + q2) - 0.5],\n",
       "[                            0,                              0, 0,                               -q3 + 0.134],\n",
       "[                            0,                              0, 0,                                         0]])"
      ]
     },
     "execution_count": 16,
     "metadata": {},
     "output_type": "execute_result"
    }
   ],
   "source": [
    "# La función nsolve de sympy busca valores busca soluciones que\n",
    "# igualan una expresión a cero. Si requerimos T = D, entonces buscamos T-D = 0\n",
    "\n",
    "T-D\n"
   ]
  },
  {
   "cell_type": "code",
   "execution_count": 17,
   "metadata": {},
   "outputs": [
    {
     "data": {
      "text/plain": [
       "Matrix([\n",
       "[ 0.220089],\n",
       "[  1.23996],\n",
       "[    0.134],\n",
       "[-0.674648]])"
      ]
     },
     "execution_count": 17,
     "metadata": {},
     "output_type": "execute_result"
    }
   ],
   "source": [
    "# Buscamos una solución relajando la precisión requerida para facilitar el cálculo.\n",
    "# La precisión por defecto es de 15 cifras significativas.\n",
    "\n",
    "try:\n",
    "    q = sp.nsolve((T-D), (q1, q2, q3, q4), (1, 1, 1, 1), prec=6)\n",
    "except:\n",
    "    print('No se encontró la solución')\n",
    "    q = [0, 0, 0, 0]\n",
    "q"
   ]
  },
  {
   "cell_type": "markdown",
   "metadata": {},
   "source": [
    "### Setup del \"suction pad\"\n",
    "El robot cuenta con un \"suction pad\" en el extremo. Éste se activa automáticamente al acercarse al cubo (1 mm o menos) y se desactiva cuando el cubo se coloca sobre la plataforma (5 mm o menos)."
   ]
  },
  {
   "cell_type": "code",
   "execution_count": 18,
   "metadata": {},
   "outputs": [],
   "source": [
    "def setEffector(val):\n",
    "# acciona el efector final\n",
    "# val es Int con valor 0 ó 1 para desactivar o activar el actuador final.\n",
    "    res,retInts,retFloats,retStrings,retBuffer=sim.simxCallScriptFunction(clientID,\n",
    "        \"suctionPad\", sim.sim_scripttype_childscript,\"setEffector\",[val],[],[],\"\", sim.simx_opmode_blocking)\n",
    "    return res"
   ]
  },
  {
   "cell_type": "code",
   "execution_count": 19,
   "metadata": {},
   "outputs": [
    {
     "data": {
      "text/plain": [
       "0"
      ]
     },
     "execution_count": 19,
     "metadata": {},
     "output_type": "execute_result"
    }
   ],
   "source": [
    "# Activamos o desactivamos el actuador final\n",
    "setEffector(1)"
   ]
  },
  {
   "cell_type": "markdown",
   "metadata": {},
   "source": [
    "### Iniciamos de nuevo la simulación en MTB_Pick_N_Place"
   ]
  },
  {
   "cell_type": "code",
   "execution_count": 20,
   "metadata": {},
   "outputs": [
    {
     "name": "stdout",
     "output_type": "stream",
     "text": [
      "Conectado al puerto:  19999\n"
     ]
    }
   ],
   "source": [
    "clientID = connect(19999)\n",
    "\n",
    "retCode,effector=sim.simxGetObjectHandle(clientID,'effector',sim.simx_opmode_blocking)\n",
    "retCode,joint1=sim.simxGetObjectHandle(clientID,'MTB_joint1',sim.simx_opmode_blocking)\n",
    "retCode,joint2=sim.simxGetObjectHandle(clientID,'MTB_joint2',sim.simx_opmode_blocking)\n",
    "retCode,joint3=sim.simxGetObjectHandle(clientID,'MTB_joint3',sim.simx_opmode_blocking)\n",
    "retCode,joint4=sim.simxGetObjectHandle(clientID,'MTB_joint4',sim.simx_opmode_blocking)\n",
    "retCode,caja1=sim.simxGetObjectHandle(clientID,'Caja1',sim.simx_opmode_blocking)\n",
    "retCode,caja2=sim.simxGetObjectHandle(clientID,'Caja2',sim.simx_opmode_blocking)\n",
    "retCode,caja3=sim.simxGetObjectHandle(clientID,'Caja3',sim.simx_opmode_blocking)"
   ]
  },
  {
   "cell_type": "code",
   "execution_count": 21,
   "metadata": {},
   "outputs": [],
   "source": [
    "# enviamos los ángulos a las articulaciones\n",
    "\n",
    "retCode = sim.simxSetJointTargetPosition(clientID, joint1, q[0], sim.simx_opmode_blocking)\n",
    "retCode = sim.simxSetJointTargetPosition(clientID, joint2, q[1], sim.simx_opmode_blocking)\n",
    "retCode = sim.simxSetJointTargetPosition(clientID, joint3, q[2], sim.simx_opmode_blocking)\n",
    "retCode = sim.simxSetJointTargetPosition(clientID, joint4, q[3], sim.simx_opmode_blocking)\n"
   ]
  },
  {
   "cell_type": "code",
   "execution_count": 22,
   "metadata": {},
   "outputs": [
    {
     "name": "stdout",
     "output_type": "stream",
     "text": [
      "[0.4999621510505676, 0.49999555945396423, 0.09972193837165833]\n"
     ]
    }
   ],
   "source": [
    "# verificamos la posición del actuador\n",
    "retCode,pos=sim.simxGetObjectPosition(clientID, effector, -1, sim.simx_opmode_blocking)\n",
    "print(pos)"
   ]
  },
  {
   "cell_type": "code",
   "execution_count": 23,
   "metadata": {},
   "outputs": [
    {
     "name": "stdout",
     "output_type": "stream",
     "text": [
      "0.0034169870193165117\n",
      "0.0035818439152365844\n",
      "45.00053742208893\n"
     ]
    }
   ],
   "source": [
    "# y la orientación\n",
    "retCode,eul=sim.simxGetObjectOrientation(clientID, effector, -1, sim.simx_opmode_blocking)\n",
    "print(eul[0]*180/np.pi)\n",
    "print(eul[1]*180/np.pi)\n",
    "print(eul[2]*180/np.pi)"
   ]
  },
  {
   "cell_type": "markdown",
   "metadata": {},
   "source": [
    "## Movemos la caja \n",
    "\n",
    "1. Obtenemos la posición y orientación de la caja (las coordenadas que obtendrá serán las coordenadas del centro del objeto).\n",
    "2. Vamos hasta ella.\n",
    "3. Activamos el efector final con la función setEffector()\n",
    "4. Nos movemos hasta la posición final (la única orientación que puede ser manejada es el ángulo gamma; rotación respecto al eje z, respecto del sistema de coordenadas del mundo).\n",
    "5. Desactivamos el efector final.\n",
    "\n",
    "\n"
   ]
  },
  {
   "cell_type": "code",
   "execution_count": 29,
   "metadata": {},
   "outputs": [
    {
     "name": "stdout",
     "output_type": "stream",
     "text": [
      "Conectado al puerto:  19999\n",
      "leyendo la posición objetivo...\n",
      "[0.8615366220474243, 9.232490992872044e-05, 0.02499992400407791]\n",
      "-3.422827338597573e-08\n",
      "6.227469266007323e-07\n",
      "-12.989916231816192\n",
      "calculando la cinemática inversa...\n",
      "no se encontró la solución\n",
      "[0, 0, 0, 0]\n",
      "moviendo a la posición objetivo...\n",
      "movimiento concluido!\n"
     ]
    }
   ],
   "source": [
    "# Para el primer cubo\n",
    "clientID = connect(19999)\n",
    "\n",
    "# obtenemos la posición\n",
    "print(\"leyendo la posición objetivo...\")\n",
    "retCode,pos=sim.simxGetObjectPosition(clientID, caja1, -1, sim.simx_opmode_blocking)\n",
    "print(pos)\n",
    "# y orientación\n",
    "retCode,eul=sim.simxGetObjectOrientation(clientID, caja1, -1, sim.simx_opmode_blocking)\n",
    "print(eul[0]*180/3.1416)\n",
    "print(eul[1]*180/3.1416)\n",
    "print(eul[2]*180/3.1416)\n",
    "\n",
    "# definimos las coordenadas de destino\n",
    "x = pos[0]\n",
    "y = pos[1]\n",
    "z = pos[2] + 0.026 # distancia del centro al borde + tolerancia\n",
    "alpha = eul[0]\n",
    "beta = eul[1]\n",
    "gamma = eul[2]\n",
    "t = sp.Matrix([[1, 0, 0, x],\n",
    "               [0, 1, 0, y], \n",
    "               [0, 0, 1, z], \n",
    "               [0, 0, 0, 1]])\n",
    "\n",
    "D = t*matrixFromEuler(alpha, beta, gamma)\n",
    "\n",
    "# calculamos la cinemática inversa\n",
    "print(\"calculando la cinemática inversa...\")\n",
    "try:\n",
    "    q = sp.nsolve((T-D), (q1, q2, q3, q4), (1, 1, 1, 1), prec=6)\n",
    "except:\n",
    "    print('no se encontró la solución')\n",
    "    q = [0, 0, 0, 0]\n",
    "print (q)\n",
    "\n",
    "# movemos el robot a la posición\n",
    "print(\"moviendo a la posición objetivo...\")\n",
    "retCode = sim.simxSetJointTargetPosition(clientID, joint1, q[0], sim.simx_opmode_blocking)\n",
    "retCode = sim.simxSetJointTargetPosition(clientID, joint2, q[1], sim.simx_opmode_blocking)\n",
    "retCode = sim.simxSetJointTargetPosition(clientID, joint3, 0, sim.simx_opmode_blocking)\n",
    "retCode = sim.simxSetJointTargetPosition(clientID, joint4, q[3], sim.simx_opmode_blocking)\n",
    "time.sleep(1)\n",
    "# bajamos el actuador\n",
    "retCode = sim.simxSetJointTargetPosition(clientID, joint3, q[2], sim.simx_opmode_blocking)\n",
    "time.sleep(1)\n",
    "# activamos el efector\n",
    "setEffector(1)\n",
    "time.sleep(1)\n",
    "# levantamos el actuador\n",
    "retCode = sim.simxSetJointTargetPosition(clientID, joint3, 0, sim.simx_opmode_blocking)\n",
    "time.sleep(1)\n",
    "# volvemos a la posición inicial\n",
    "retCode = sim.simxSetJointTargetPosition(clientID, joint1, 0, sim.simx_opmode_blocking)\n",
    "retCode = sim.simxSetJointTargetPosition(clientID, joint2, 0, sim.simx_opmode_blocking)\n",
    "retCode = sim.simxSetJointTargetPosition(clientID, joint3, 0, sim.simx_opmode_blocking)\n",
    "time.sleep(1)\n",
    "# bajamos el cubo\n",
    "retCode = sim.simxSetJointTargetPosition(clientID, joint3, q[2], sim.simx_opmode_blocking)\n",
    "time.sleep(1)\n",
    "# desactivamos el actuador\n",
    "time.sleep(1)\n",
    "setEffector(0)\n",
    "# y levantamos\n",
    "retCode = sim.simxSetJointTargetPosition(clientID, joint3, 0, sim.simx_opmode_blocking)\n",
    "print(\"movimiento concluido!\")"
   ]
  },
  {
   "cell_type": "code",
   "execution_count": null,
   "metadata": {},
   "outputs": [],
   "source": []
  },
  {
   "cell_type": "markdown",
   "metadata": {},
   "source": [
    "# Ejercicio examen\n"
   ]
  },
  {
   "cell_type": "code",
   "execution_count": 27,
   "metadata": {},
   "outputs": [
    {
     "data": {
      "text/plain": [
       "Matrix([\n",
       "[0, -1, 0,  5],\n",
       "[1,  0, 0, -6],\n",
       "[0,  0, 1, 14],\n",
       "[0,  0, 0,  1]])"
      ]
     },
     "execution_count": 27,
     "metadata": {},
     "output_type": "execute_result"
    }
   ],
   "source": [
    "r_u = -5\n",
    "r_v = -7\n",
    "r_w = 9\n",
    "\n",
    "r_uvw = sp.Matrix([r_u,r_v,r_w,1])\n",
    "\n",
    "t_x = 5\n",
    "t_y = -6\n",
    "t_z = 14\n",
    "\n",
    "\n",
    "t = sp.Matrix([[0, -1, 0, t_x],\n",
    "               [1, 0, 0,  t_y], \n",
    "               [0, 0, 1,  t_z], \n",
    "               [0, 0, 0, 1]])\n",
    "\n",
    "t"
   ]
  },
  {
   "cell_type": "code",
   "execution_count": 28,
   "metadata": {},
   "outputs": [
    {
     "data": {
      "text/plain": [
       "Matrix([\n",
       "[ 12],\n",
       "[-11],\n",
       "[ 23],\n",
       "[  1]])"
      ]
     },
     "execution_count": 28,
     "metadata": {},
     "output_type": "execute_result"
    }
   ],
   "source": [
    "sol = t*r_uvw\n",
    "sol\n"
   ]
  },
  {
   "cell_type": "code",
   "execution_count": null,
   "metadata": {},
   "outputs": [],
   "source": []
  },
  {
   "cell_type": "code",
   "execution_count": null,
   "metadata": {},
   "outputs": [],
   "source": []
  }
 ],
 "metadata": {
  "kernelspec": {
   "display_name": "Python 3",
   "language": "python",
   "name": "python3"
  },
  "language_info": {
   "codemirror_mode": {
    "name": "ipython",
    "version": 3
   },
   "file_extension": ".py",
   "mimetype": "text/x-python",
   "name": "python",
   "nbconvert_exporter": "python",
   "pygments_lexer": "ipython3",
   "version": "3.7.3"
  }
 },
 "nbformat": 4,
 "nbformat_minor": 2
}
